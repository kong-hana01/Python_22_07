{
 "cells": [
  {
   "cell_type": "markdown",
   "id": "809ff803",
   "metadata": {},
   "source": [
    "## Function\n",
    "프로그래밍에서의 함수는 반복적인 코드를 작성할 때 이를 짧고 간편하게 사용하기 위해 사용합니다.<br>\n",
    "프로그래밍에서의 함수와 수학에서의 함수는 차이가 있습니다.<br>\n",
    "- 수학에서의 함수: input과 output이 존재\n",
    "- 프로그래밍에서의 함수: input과 output이 존재하지 않을 수 있다.\n",
    "\n",
    "프로그래밍 언어에서 함수는 두 가지로 유형을 구분할 수 있습니다.<br>\n",
    "- 사전에 정의된 함수 (이미 만들어진 함수)\n",
    "- 사용자 정의 함수\n",
    "\n",
    "사전에 정의된 함수는 저희가 여태 사용했던 내장 함수가 이 예시입니다.\n",
    "- ex) print(), input(), map()\n",
    "\n",
    "### 내장함수\n",
    "저희가 아직 배우지 않은 여러 내장 함수들 중에 유용한 내장 함수가 많이 존재합니다.\n",
    "- abs(x): x의 절대값 반환\n",
    "- round(x): x의 소수점 다음에서 반올림한 값을 계산\n",
    "- min(x): 데이터 집합인 x의 최소값을 반환\n",
    "- max(x): 데이터 집합인 x의 최대값을 반환\n",
    "- help(function): 내장함수 또는 사용자 정의 함수의 기능을 확인"
   ]
  },
  {
   "cell_type": "code",
   "execution_count": 12,
   "id": "c6a480b9",
   "metadata": {},
   "outputs": [
    {
     "name": "stdout",
     "output_type": "stream",
     "text": [
      "1\n",
      "1\n",
      "3\n",
      "4\n",
      "2\n",
      "-2\n",
      "3\n",
      "5\n",
      "Help on built-in function round in module builtins:\n",
      "\n",
      "round(number, ndigits=None)\n",
      "    Round a number to a given precision in decimal digits.\n",
      "    \n",
      "    The return value is an integer if ndigits is omitted or None.  Otherwise\n",
      "    the return value has the same type as the number.  ndigits may be negative.\n",
      "\n",
      "None\n",
      "\n",
      "Help on built-in function print in module builtins:\n",
      "\n",
      "print(...)\n",
      "    print(value, ..., sep=' ', end='\\n', file=sys.stdout, flush=False)\n",
      "    \n",
      "    Prints the values to a stream, or to sys.stdout by default.\n",
      "    Optional keyword arguments:\n",
      "    file:  a file-like object (stream); defaults to the current sys.stdout.\n",
      "    sep:   string inserted between values, default a space.\n",
      "    end:   string appended after the last value, default a newline.\n",
      "    flush: whether to forcibly flush the stream.\n",
      "\n",
      "None\n",
      "3.1\n"
     ]
    }
   ],
   "source": [
    "# abs()\n",
    "print(abs(-1))\n",
    "print(abs(1))\n",
    "\n",
    "# round()\n",
    "print(round(3.14))\n",
    "print(round(3.6))\n",
    "\n",
    "# min()\n",
    "print(min(2, 3))\n",
    "print(min([1, 2, 3, 4, 5, -2]))\n",
    "\n",
    "# max()\n",
    "print(max(2, 3))\n",
    "print(max([1, 2, 3, 4, 5, -2]))\n",
    "\n",
    "# help()\n",
    "print(help(round))\n",
    "print()\n",
    "print(help(print))\n",
    "print(round(3.14, 1))"
   ]
  },
  {
   "cell_type": "code",
   "execution_count": 15,
   "id": "d1c831db",
   "metadata": {},
   "outputs": [
    {
     "name": "stdout",
     "output_type": "stream",
     "text": [
      "9\n"
     ]
    }
   ],
   "source": [
    "# 내장 함수의 활용\n",
    "# 절대값이 가장 큰 값을 출력해라\n",
    "# 절대값을 구하는 함수: abs()\n",
    "# 데이터 집합 내의 원소 중 가장 큰 값을 구하는 함수: max()\n",
    "data = [1, 2, 3, 4, 5, -1, -2, -6, 8, -9]\n",
    "max_value = 0\n",
    "for i in data:\n",
    "    max_value = max(abs(i), max_value)\n",
    "print(max_value)"
   ]
  },
  {
   "cell_type": "markdown",
   "id": "fa2e52de",
   "metadata": {},
   "source": [
    "### 사용자 정의 함수\n",
    "자신이 컴퓨터로 하여금 수행하게끔 하고 싶은 반복적인 동작이 있다면 함수를 직접 정의해서 만들 수 있습니다.<br>\n",
    "이를 사용자 정의 함수라고 합니다.<br>\n",
    "\n",
    "##### 함수 정의\n",
    "```python\n",
    "def 함수의 이름(매개변수(들)):\n",
    "    함수 본체 <수행할 문장1>\n",
    "    함수 본체 <수행할 문장2>\n",
    "    함수 본체 <수행할 문장3>\n",
    "    ...\n",
    "    return 결과값\n",
    "```\n",
    "함수는 다음과 같은 방식으로 동작합니다.<br>\n",
    "1. 어떤 입력값(매개변수)이 주어졌을 때\n",
    "2. 어떤 일을 수행하고,\n",
    "3. 어떤 결과값을 리턴한다.\n",
    "\n",
    "##### 함수의 동작 정의\n",
    "- 입력(매개변수) 및 함수 호출(call) -> 함수의 본체 수행 -> 결과(리턴, return)\n",
    "\n",
    "\n",
    "##### 함수의 파라미터\n",
    "- 함수의 파라미터가 정해져있는 경우, 파라미터에 맞게 값을 전달해야지 함수가 동작합니다.\n",
    "- 함수의 파라미터 개수를 맞춰주지 않는 경우는 TypeError가 발생합니다.\n",
    "- 함수의 파라미터가 적혀있는 순서를 지키는 것도 중요합니다. 이를 지키지 않으면 Semantic Error(논리적 오류)가 발생할 수 있습니다.\n",
    "\n",
    "\n",
    "##### 함수명 사용 규칙\n",
    "- 변수명 사용 규칙과 동일\n",
    "\n",
    "##### 매개변수나 리턴값이 없는 경우\n",
    "- 매개변수가 없는 경우는 함수의 input이 없는 경우로 생각하시면 됩니다.\n",
    "- 리턴값이 없는 경우는 함수의 output이 없는 경우로 생각하시면 됩니다.\n",
    "- 리턴값이 없는 경우는 사실 return None이 생략된 겁니다."
   ]
  },
  {
   "cell_type": "code",
   "execution_count": 31,
   "id": "d8e45469",
   "metadata": {
    "collapsed": true
   },
   "outputs": [
    {
     "name": "stdout",
     "output_type": "stream",
     "text": [
      "Hello World\n",
      "None\n",
      "3\n",
      "2.0\n",
      "0.5\n",
      "False\n",
      "2.0\n",
      "2.0\n",
      "Help on built-in function round in module builtins:\n",
      "\n",
      "round(number, ndigits=None)\n",
      "    Round a number to a given precision in decimal digits.\n",
      "    \n",
      "    The return value is an integer if ndigits is omitted or None.  Otherwise\n",
      "    the return value has the same type as the number.  ndigits may be negative.\n",
      "\n",
      "None\n"
     ]
    }
   ],
   "source": [
    "# 함수의 기본 구조\n",
    "# 매개변수(input)와 리턴(output)이 없는 경우\n",
    "def Hello_World():\n",
    "    print('Hello World')\n",
    "    # return x\n",
    "    # return None 생략\n",
    "    \n",
    "func = Hello_World\n",
    "print(func()) # None\n",
    "# func(111) TypeError\n",
    "\n",
    "# 함수의 리턴값이 존재하는 경우\n",
    "def return3():\n",
    "    return 3\n",
    "\n",
    "print(return3())\n",
    "\n",
    "# 파라미터가 두 개 이상 존재하는 경우\n",
    "def divide(var1, var2):\n",
    "    return var1 / var2\n",
    "\n",
    "# 파라미터의 입력 순서를 지켜주는 것이 중요합니다.\n",
    "print(divide(10, 5)) # 2.0\n",
    "print(divide(5, 10)) # 0.5\n",
    "print(divide(10, 5) == divide(5, 10)) # False\n",
    "\n",
    "# 파라미터의 변수에 직접 값을 할당한다면 순서를 바꿀 수 있습니다.\n",
    "print(divide(var1 = 10, var2 = 5))\n",
    "print(divide(var2 = 5, var1 = 10))\n",
    "\n",
    "# 내장함수의 기능과 파라미터는 help를 통해서 알 수 있습니다.\n",
    "# 그렇다면 다른 사람이 만든 함수는 어떻게 확인하지?  -> FDR('''''' or \"\"\"\"\"\" 활용)\n",
    "print(help(round))"
   ]
  },
  {
   "cell_type": "code",
   "execution_count": 28,
   "id": "b1090ef1",
   "metadata": {
    "scrolled": true
   },
   "outputs": [
    {
     "name": "stdout",
     "output_type": "stream",
     "text": [
      "1//2//3/1//2//3/"
     ]
    }
   ],
   "source": [
    "print(1, 2, 3, end='/', sep = '//')\n",
    "print(1, 2, 3, sep = '//', end='/' )"
   ]
  },
  {
   "cell_type": "markdown",
   "id": "a2d53357",
   "metadata": {},
   "source": [
    "### FDR (Function Design Recipe)\n",
    "함수 내부에 주석을 적어 함수의 파라미터, 리턴타입, 함수 동작에 대한 설명, 출력 예시 등을 명시하는 것입니다.<br>\n",
    "이는 help 함수를 통해 확인할 수 있습니다.<br>\n",
    "다른 사람과의 협업 시에 사용합니다."
   ]
  },
  {
   "cell_type": "code",
   "execution_count": 1,
   "id": "8b025dbf",
   "metadata": {
    "scrolled": true
   },
   "outputs": [
    {
     "name": "stdout",
     "output_type": "stream",
     "text": [
      "3\n",
      "Help on function add in module __main__:\n",
      "\n",
      "add(var1, var2)\n",
      "    (int, int) -> int\n",
      "    Return the result of addition of var1 and var2.\n",
      "    var1과 var2를 더해서 리턴해줍니다.\n",
      "    \n",
      "    >>> add(1, 2)\n",
      "    3\n",
      "    \n",
      "    >>> add(2, 5)\n",
      "    7\n",
      "\n",
      "None\n"
     ]
    }
   ],
   "source": [
    "def add(var1, var2):\n",
    "    '''(int, int) -> int\n",
    "    Return the result of addition of var1 and var2.\n",
    "    var1과 var2를 더해서 리턴해줍니다.\n",
    "    \n",
    "    >>> add(1, 2)\n",
    "    3\n",
    "    \n",
    "    >>> add(2, 5)\n",
    "    7\n",
    "    '''\n",
    "    return var1 + var2\n",
    "\n",
    "print(add(1, 2))\n",
    "print(help(add))"
   ]
  },
  {
   "cell_type": "markdown",
   "id": "f882693c",
   "metadata": {},
   "source": [
    "### 지역 변수와 전역 변수\n",
    "함수 바깥에서 사용하는 변수는 전역변수(global variable)라 합니다.<br>\n",
    "반면 함수 내부에서 사용하는 변수는 지역변수(local variable)라 합니다.<br>\n",
    "전역변수의 경우 별도의 처리를 하지 않으면 함수 내부에서 사용할 수 없습니다.<br>\n",
    "지역 변수 또한 함수 외부에서 사용할 수 없습니다.<br>\n",
    "\n",
    "\n",
    "##### 전역 변수 사용하기\n",
    "1. 전역변수는 함수 내부에서 ``global``을 활용해 함수 내부에서 사용 가능합니다.<br>\n",
    "2. 전역변수는 파라미터로 값을 전달할 경우, 그 값은 사용 가능합니다. 하지만 함수 내부에서 어떤 동작을 거치더라도 전역변수의 값은 바뀌지 않습니다."
   ]
  },
  {
   "cell_type": "code",
   "execution_count": 5,
   "id": "dcc9ccb6",
   "metadata": {},
   "outputs": [],
   "source": [
    "count = 0\n",
    "def count_func():\n",
    "    count = 1 + count\n",
    "    return count\n",
    "\n",
    "# count_func() # UnboundLocalError"
   ]
  },
  {
   "cell_type": "code",
   "execution_count": 6,
   "id": "f50f6710",
   "metadata": {},
   "outputs": [
    {
     "name": "stdout",
     "output_type": "stream",
     "text": [
      "1\n"
     ]
    }
   ],
   "source": [
    "# global\n",
    "count = 0 # 전역변수\n",
    "def count_func1():\n",
    "    global count\n",
    "    count += 1\n",
    "    return count\n",
    "\n",
    "count_func1()\n",
    "print(count) # 전역변수의 값이 변합니다."
   ]
  },
  {
   "cell_type": "code",
   "execution_count": 9,
   "id": "3cf23bfe",
   "metadata": {},
   "outputs": [
    {
     "name": "stdout",
     "output_type": "stream",
     "text": [
      "1\n",
      "0\n"
     ]
    }
   ],
   "source": [
    "# 파라미터로 값 전달\n",
    "count = 0\n",
    "def count_func2(cnt):\n",
    "    cnt += 1\n",
    "    return cnt\n",
    "\n",
    "\n",
    "print(count_func2(count))\n",
    "print(count)"
   ]
  },
  {
   "cell_type": "markdown",
   "id": "f913c0b8",
   "metadata": {},
   "source": [
    "### return\n",
    "지역 변수를 함수 바깥에서 사용하는 유일한 방법은 return입니다.<br>\n",
    "일반적으로 함수는 return을 통해 함수 내부에서 구현한 동작의 결과값을 함수 바깥으로 내보냅니다.<br>\n",
    "return을 써주지 않는 경우는 return None이 생략된 겁니다."
   ]
  },
  {
   "cell_type": "code",
   "execution_count": 11,
   "id": "1f89cabe",
   "metadata": {},
   "outputs": [
    {
     "name": "stdout",
     "output_type": "stream",
     "text": [
      "4\n"
     ]
    }
   ],
   "source": [
    "count = 0\n",
    "count = count_func2(count)\n",
    "count = count_func2(count)\n",
    "count = count_func2(count)\n",
    "count = count_func2(count)\n",
    "\n",
    "print(count)"
   ]
  },
  {
   "cell_type": "code",
   "execution_count": 14,
   "id": "17f40cd5",
   "metadata": {},
   "outputs": [],
   "source": [
    "# 함수 내부의 함수 (활용하기)\n",
    "'''\n",
    "1. 두 값을 더하는 함수 만들기\n",
    "2. 두 값을 곱하는 함수 만들기\n",
    "3. 세 개의 파라미터를 전달받아 앞에 있는 두 개의 파라미터는 더해주고, 그 값과 마지막 파라미터를 곱하는 함수 만들기\n",
    "'''\n",
    "# 1\n",
    "def add(var1, var2):\n",
    "    return var1 + var2\n",
    "\n",
    "# 2\n",
    "def multiply(var1, var2):\n",
    "    return var1 * var2\n",
    "\n",
    "# 3 (var1 + var2) * var3\n",
    "def add_and_multiply(var1, var2, var3):\n",
    "    return (var1 + var2) * var3\n",
    "\n",
    "# 앞서 만든 함수 활용\n",
    "def add_and_multiply2(var1, var2, var3):\n",
    "    return multiply(add(var1, var2), var3)"
   ]
  },
  {
   "cell_type": "code",
   "execution_count": 15,
   "id": "9cdecd57",
   "metadata": {},
   "outputs": [
    {
     "name": "stdout",
     "output_type": "stream",
     "text": [
      "9\n",
      "9\n"
     ]
    }
   ],
   "source": [
    "a, b, c = 1, 2, 3\n",
    "print(add_and_multiply(a, b, c))\n",
    "print(add_and_multiply2(a, b, c))"
   ]
  },
  {
   "cell_type": "markdown",
   "id": "2770c552",
   "metadata": {},
   "source": [
    "### 디폴트 파라미터\n",
    "입력 파라미터를 따로 주지 않는 경우에도 함수를 호출할 수 있게 합니다.<br>\n",
    "일반적으로 파라미터가 어떤 한가지로 대부분 주어지는 경우 디폴트 파라미터를 사용하곤 합니다.<br>"
   ]
  },
  {
   "cell_type": "code",
   "execution_count": 16,
   "id": "0c080220",
   "metadata": {},
   "outputs": [
    {
     "name": "stdout",
     "output_type": "stream",
     "text": [
      "Help on built-in function round in module builtins:\n",
      "\n",
      "round(number, ndigits=None)\n",
      "    Round a number to a given precision in decimal digits.\n",
      "    \n",
      "    The return value is an integer if ndigits is omitted or None.  Otherwise\n",
      "    the return value has the same type as the number.  ndigits may be negative.\n",
      "\n",
      "None\n"
     ]
    }
   ],
   "source": [
    "print(help(round)) # ndigits=None -> 디폴트 파라미터"
   ]
  },
  {
   "cell_type": "code",
   "execution_count": 20,
   "id": "324d7c5f",
   "metadata": {},
   "outputs": [
    {
     "name": "stdout",
     "output_type": "stream",
     "text": [
      "3.14\n"
     ]
    }
   ],
   "source": [
    "print(round(3.14))"
   ]
  },
  {
   "cell_type": "code",
   "execution_count": 28,
   "id": "20a7cbd2",
   "metadata": {},
   "outputs": [
    {
     "name": "stdout",
     "output_type": "stream",
     "text": [
      "3\n",
      "7\n"
     ]
    }
   ],
   "source": [
    "def add(var1, var2=0):\n",
    "    return var1 + var2\n",
    "\n",
    "print(add(3))\n",
    "print(add(3, 4))\n",
    "\n",
    "# def add2(var1=0, var2): SyntaxError\n",
    "#     return var1 + var2"
   ]
  }
 ],
 "metadata": {
  "kernelspec": {
   "display_name": "Python 3 (ipykernel)",
   "language": "python",
   "name": "python3"
  },
  "language_info": {
   "codemirror_mode": {
    "name": "ipython",
    "version": 3
   },
   "file_extension": ".py",
   "mimetype": "text/x-python",
   "name": "python",
   "nbconvert_exporter": "python",
   "pygments_lexer": "ipython3",
   "version": "3.9.7"
  }
 },
 "nbformat": 4,
 "nbformat_minor": 5
}
