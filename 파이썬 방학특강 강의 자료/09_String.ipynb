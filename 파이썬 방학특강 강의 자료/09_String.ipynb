{
 "cells": [
  {
   "cell_type": "markdown",
   "id": "293a560f",
   "metadata": {},
   "source": [
    "## String\n",
    "문자열은 정수형 자료구조와는 살짝 다른 특징이 있습니다.\n",
    "1. 슬라이싱이 가능하다.\n",
    "2. 값을 수정할 수 없다.\n",
    "![문자열의 인덱스](string_slicing.JPG)"
   ]
  },
  {
   "cell_type": "markdown",
   "id": "e3795da0",
   "metadata": {},
   "source": [
    "### 문자열 슬라이싱(Slicing string)\n",
    "Sequencial한 자료구조는 인덱스를 가지고 있습니다.\n",
    "- 인덱스는 번호를 통해서 자료를 검색, (삽입, 삭제, 수정)할 수 있도록 도와줍니다.\n",
    "- 인덱스는 ``0번``부터 시작하고 그 ``자료의 길이 - 1``까지의 범위를 가집니다.\n",
    "파이썬에서의 문자열은 인덱스를 통해 문자를 검색할 수 있습니다.<br>\n",
    "문자열 안의 글자 혹은 글자들에 접근하기 위해서 []기호를 사용합니다.\n",
    "\n",
    "### 인덱스 사용 시 주의 사항\n",
    "- 범위를 벗어나는 경우 오류가 발생합니다.\n",
    "- 음수를 입력할 경우에는 뒤에서부터 차례로 검색합니다.\n",
    "- 두 개 이상의 글자들에 접근하기 위해서는 :을 사용해 범위를 설정합니다.\n",
    "\n",
    "```python\n",
    "s = '어떤 문자열'\n",
    "s[0] # s의 0번째 글자\n",
    "s[-1] # s의 마지막 글자\n",
    "s[start:end] # s의 start부터 end-1번째에 해당하는 글자까지 포함하는 새로운 문자열 -> 슬라이싱\n",
    "s[start:] # s의 start에 해당하는 글자를 시작으로 문자열 끝 글자까지의 글자들을 포함한느 새로운 문자열 == s[start:-1]\n",
    "s[:end] # s의 첫글자부터 end-1번째에 해당하는 글자를 끝으로 하는 새로운 문자열 == s[0:end]\n",
    "s[start:end:step] # s의 start부터 end-1번째에 해당하는 글자까지 step만큼의 간격의 인덱스에 해당하는 새로운 문자열\n",
    "```"
   ]
  },
  {
   "cell_type": "code",
   "execution_count": 16,
   "id": "92f898db",
   "metadata": {},
   "outputs": [
    {
     "name": "stdout",
     "output_type": "stream",
     "text": [
      "I love you.\n",
      "11\n",
      "I\n",
      ".\n",
      ".\n",
      ".\n",
      "u\n",
      "o\n",
      ".uoy evol I\n"
     ]
    }
   ],
   "source": [
    "sentence = 'I love you.'\n",
    "print(sentence)\n",
    "print(len(sentence))\n",
    "\n",
    "# index\n",
    "print(sentence[0]) # I\n",
    "print(sentence[10]) # .\n",
    "# print(sentence[11]) IndexError\n",
    "print(sentence[-1]) # 음수 인덱스 -> .\n",
    "print(sentence[len(sentence) - 1])\n",
    "\n",
    "# 음수 인덱스\n",
    "print(sentence[-2]) # u\n",
    "print(sentence[-3]) # o\n",
    "# print(sentence[-12]) IndexError\n",
    "\n",
    "# 문자열 거꾸로 출력하기\n",
    "print(sentence[::-1])"
   ]
  },
  {
   "cell_type": "code",
   "execution_count": null,
   "id": "8a3fda2d",
   "metadata": {},
   "outputs": [],
   "source": []
  }
 ],
 "metadata": {
  "kernelspec": {
   "display_name": "Python 3 (ipykernel)",
   "language": "python",
   "name": "python3"
  },
  "language_info": {
   "codemirror_mode": {
    "name": "ipython",
    "version": 3
   },
   "file_extension": ".py",
   "mimetype": "text/x-python",
   "name": "python",
   "nbconvert_exporter": "python",
   "pygments_lexer": "ipython3",
   "version": "3.9.7"
  }
 },
 "nbformat": 4,
 "nbformat_minor": 5
}
