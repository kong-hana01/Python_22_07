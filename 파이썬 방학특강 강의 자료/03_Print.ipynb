{
 "cells": [
  {
   "cell_type": "markdown",
   "id": "c10d2e94",
   "metadata": {},
   "source": [
    "## Print\n",
    "파이썬에서의 출력함수는 print()입니다.<br>\n",
    "print()의 다양한 출력 방식을 알아야 간단하고, 깔끔하게 출력할 수 있습니다.<br>\n",
    "\n",
    "### 서식문자\n",
    "- 문자열 사이에 변수를 넣어 출력할 때, 간략하게 써서 표현할 수 있도록 도와줍니다.\n",
    "1. %를 사용해 출력\n",
    "    - %s: 문자열 표현하기\n",
    "    - %f: 실수 표현하기\n",
    "    - %d: 정수 표현하기\n",
    "2. format을 사용해 출력\n",
    "3. f''를 사용해 출력\n",
    "\n",
    "- 소수점 출력은 {:.자리수f}"
   ]
  },
  {
   "cell_type": "code",
   "execution_count": 1,
   "id": "56951215",
   "metadata": {},
   "outputs": [
    {
     "name": "stdout",
     "output_type": "stream",
     "text": [
      "당신의 이름을 입력해주세요.최한빈\n",
      "내 이름은 최한빈 입니다.\n"
     ]
    }
   ],
   "source": [
    "# 문자열과 변수의 출력 1\n",
    "# 내 이름은 최한빈 입니다.\n",
    "name = input('당신의 이름을 입력해주세요.')\n",
    "print('내 이름은', name, '입니다.')"
   ]
  },
  {
   "cell_type": "code",
   "execution_count": 3,
   "id": "83e2c58d",
   "metadata": {},
   "outputs": [
    {
     "name": "stdout",
     "output_type": "stream",
     "text": [
      "당신의 이름과 나이, 사는 지역을 입력해주세요.최한빈 99 김포\n",
      "내 이름은 최한빈 입니다. 그리고 나이는 99 살이고, 사는 곳은 김포 입니다.\n"
     ]
    }
   ],
   "source": [
    "# 문자열과 변수의 출력 2\n",
    "# 내 이름은 최한빈 입니다. 그리고 나이는 99 살이고, 사는 곳은 김포 입니다.\n",
    "name, age, place = input('당신의 이름과 나이, 사는 지역을 입력해주세요.').split()\n",
    "age = int(age)\n",
    "print('내 이름은', name, '입니다.', '그리고 나이는', age, '살이고, 사는 곳은', place, '입니다.') # 변수가 많아질수록 복잡해지는 것을 확인"
   ]
  },
  {
   "cell_type": "code",
   "execution_count": 14,
   "id": "26dd6155",
   "metadata": {},
   "outputs": [
    {
     "name": "stdout",
     "output_type": "stream",
     "text": [
      "최한빈 99 김포\n",
      "내 이름은 최한빈입니다.\n",
      "내 이름은 최한빈입니다. 그리고 나이는 99살이고, 사는 곳은 김포입니다.\n",
      "내 이름은 최한빈입니다. 그리고 나이는 99살이고, 사는 곳은 김포입니다.\n",
      "내 이름은 최한빈입니다. 그리고 나이는 99살이고, 사는 곳은 김포입니다.\n",
      "내 이름은 최한빈입니다. 그리고 나이는 990살이고, 사는 곳은 김포입니다.\n"
     ]
    }
   ],
   "source": [
    "print(name, age, place)\n",
    "# 서식문자\n",
    "# 1. %를 사용해 출력한다.\n",
    "print('내 이름은 %s입니다.' % name)\n",
    "print('내 이름은 %s입니다. 그리고 나이는 %d살이고, 사는 곳은 %s입니다.' % (name, age, place))\n",
    "\n",
    "# 2. format을 사용해 출력한다.\n",
    "print('내 이름은 {}입니다. 그리고 나이는 {}살이고, 사는 곳은 {}입니다.'.format(name, age, place))\n",
    "print('내 이름은 {a}입니다. 그리고 나이는 {b}살이고, 사는 곳은 {c}입니다.'.format(b = age, c = place, a = name))\n",
    "\n",
    "# 3. f''을 사용해 출력한다.\n",
    "print(f'내 이름은 {name}입니다. 그리고 나이는 {age}살이고, 사는 곳은 {place}입니다.')"
   ]
  },
  {
   "cell_type": "code",
   "execution_count": 16,
   "id": "22f58218",
   "metadata": {},
   "outputs": [
    {
     "name": "stdout",
     "output_type": "stream",
     "text": [
      "3.141592653589793\n",
      "3.142\n"
     ]
    }
   ],
   "source": [
    "import math\n",
    "print(math.pi)\n",
    "print('{:.3f}'.format(math.pi))"
   ]
  },
  {
   "cell_type": "markdown",
   "id": "02b8c578",
   "metadata": {},
   "source": [
    "### end와 sep옵션\n",
    "- end: 줄 별로 print()를 사용했을 때, print() 간의 문자열 설정\n",
    "    * default = '\\n'\n",
    "    * '\\n'는 이스케이프 문자로 줄바꿈을 의미함\n",
    "- sep: 하나의 print() 함수에서 여러 원소를 출력할 때, 원소 간의 문자열 설정\n",
    "    * default = ' '"
   ]
  },
  {
   "cell_type": "code",
   "execution_count": 1,
   "id": "3f0a1ffb",
   "metadata": {},
   "outputs": [
    {
     "name": "stdout",
     "output_type": "stream",
     "text": [
      "1\n",
      "1\n"
     ]
    }
   ],
   "source": [
    "print(1)\n",
    "print(1)"
   ]
  },
  {
   "cell_type": "code",
   "execution_count": 2,
   "id": "d9605098",
   "metadata": {},
   "outputs": [
    {
     "name": "stdout",
     "output_type": "stream",
     "text": [
      "1 2 3 4 5\n"
     ]
    }
   ],
   "source": [
    "print(1, 2, 3, 4, 5)"
   ]
  },
  {
   "cell_type": "code",
   "execution_count": 8,
   "id": "e5fd1546",
   "metadata": {},
   "outputs": [
    {
     "name": "stdout",
     "output_type": "stream",
     "text": [
      "11\n",
      "----------------------------------------------------------------------------------------------------\n",
      "1/1\n",
      "----------------------------------------------------------------------------------------------------\n",
      "12345\n",
      "----------------------------------------------------------------------------------------------------\n",
      "1/2/3/4/5\n",
      "1/2/3/4/5-6/7/8/9/10-"
     ]
    }
   ],
   "source": [
    "# end\n",
    "print(1, end='')\n",
    "print(1)\n",
    "\n",
    "print('--' * 50)\n",
    "print(1, end='/')\n",
    "print(1)\n",
    "\n",
    "print('--' * 50)\n",
    "\n",
    "# sep\n",
    "print(1, 2, 3, 4, 5, sep='')\n",
    "\n",
    "print('--' * 50)\n",
    "print(1, 2, 3, 4, 5, sep='/')\n",
    "\n",
    "# end와 sep 설정\n",
    "print(1, 2, 3, 4, 5, sep='/', end='-')\n",
    "print(6, 7, 8, 9, 10, sep='/', end='-')\n",
    "# 1/2/3/4/5-6/7/8/9/10-"
   ]
  },
  {
   "cell_type": "code",
   "execution_count": 11,
   "id": "484c5022",
   "metadata": {},
   "outputs": [
    {
     "name": "stdout",
     "output_type": "stream",
     "text": [
      "0, 10\n",
      "정사각형의 너비는 0입니다.\n"
     ]
    }
   ],
   "source": [
    "'''\n",
    "실습 문제 1\n",
    "정사각형의 가로 길이와 세로 길이를 입력받고, \n",
    "그 정사각형의 너비를 구하여 하나의 변수에 저장한 뒤,\n",
    "다음과 같이 너비를 출력하도록 하는 프로그램을 만들어보자.\n",
    "\n",
    "입력 예시 1\n",
    "10, 20\n",
    "\n",
    "출력 예시 1\n",
    "정사각형의 너비는 200입니다.\n",
    "\n",
    "입력 예시 2\n",
    "0, 10\n",
    "\n",
    "출력 예시 2\n",
    "정사각형의 너비는 0입니다.\n",
    "\n",
    "hint: 입력 예시를 잘 확인한 뒤, 값을 입력 받으세요.\n",
    "'''\n",
    "garo, sero = map(int, input().split(', '))\n",
    "area = garo * sero\n",
    "print('정사각형의 너비는 {}입니다.'.format(area))"
   ]
  }
 ],
 "metadata": {
  "kernelspec": {
   "display_name": "Python 3 (ipykernel)",
   "language": "python",
   "name": "python3"
  },
  "language_info": {
   "codemirror_mode": {
    "name": "ipython",
    "version": 3
   },
   "file_extension": ".py",
   "mimetype": "text/x-python",
   "name": "python",
   "nbconvert_exporter": "python",
   "pygments_lexer": "ipython3",
   "version": "3.9.7"
  }
 },
 "nbformat": 4,
 "nbformat_minor": 5
}
